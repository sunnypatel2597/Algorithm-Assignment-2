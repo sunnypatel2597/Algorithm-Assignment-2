{
 "cells": [
  {
   "cell_type": "code",
   "execution_count": 1,
   "metadata": {
    "pycharm": {
     "is_executing": true
    }
   },
   "outputs": [],
   "source": [
    "import pandas as pd\n",
    "from sklearn.preprocessing import LabelEncoder\n",
    "from sklearn.preprocessing import MinMaxScaler\n",
    "from sklearn.model_selection import train_test_split\n",
    "import numpy as np\n",
    "import matplotlib.pyplot as plt \n",
    "from sklearn import metrics\n",
    "import seaborn as sns\n"
   ]
  },
  {
   "cell_type": "markdown",
   "metadata": {},
   "source": [
    "#### 1."
   ]
  },
  {
   "cell_type": "code",
   "execution_count": 97,
   "metadata": {},
   "outputs": [],
   "source": [
    "df = pd.read_csv('housing.txt', sep=',', header=None)\n",
    "df=df.dropna()"
   ]
  },
  {
   "cell_type": "code",
   "execution_count": 98,
   "metadata": {},
   "outputs": [
    {
     "data": {
      "text/html": [
       "<div>\n",
       "<style scoped>\n",
       "    .dataframe tbody tr th:only-of-type {\n",
       "        vertical-align: middle;\n",
       "    }\n",
       "\n",
       "    .dataframe tbody tr th {\n",
       "        vertical-align: top;\n",
       "    }\n",
       "\n",
       "    .dataframe thead th {\n",
       "        text-align: right;\n",
       "    }\n",
       "</style>\n",
       "<table border=\"1\" class=\"dataframe\">\n",
       "  <thead>\n",
       "    <tr style=\"text-align: right;\">\n",
       "      <th></th>\n",
       "      <th>0</th>\n",
       "      <th>1</th>\n",
       "      <th>2</th>\n",
       "      <th>3</th>\n",
       "      <th>4</th>\n",
       "      <th>5</th>\n",
       "      <th>6</th>\n",
       "      <th>7</th>\n",
       "      <th>8</th>\n",
       "      <th>9</th>\n",
       "    </tr>\n",
       "  </thead>\n",
       "  <tbody>\n",
       "    <tr>\n",
       "      <th>0</th>\n",
       "      <td>-122.23</td>\n",
       "      <td>37.88</td>\n",
       "      <td>41.0</td>\n",
       "      <td>880.0</td>\n",
       "      <td>129.0</td>\n",
       "      <td>322.0</td>\n",
       "      <td>126.0</td>\n",
       "      <td>8.3252</td>\n",
       "      <td>452600.0</td>\n",
       "      <td>NEAR BAY</td>\n",
       "    </tr>\n",
       "    <tr>\n",
       "      <th>1</th>\n",
       "      <td>-122.22</td>\n",
       "      <td>37.86</td>\n",
       "      <td>21.0</td>\n",
       "      <td>7099.0</td>\n",
       "      <td>1106.0</td>\n",
       "      <td>2401.0</td>\n",
       "      <td>1138.0</td>\n",
       "      <td>8.3014</td>\n",
       "      <td>358500.0</td>\n",
       "      <td>NEAR BAY</td>\n",
       "    </tr>\n",
       "    <tr>\n",
       "      <th>2</th>\n",
       "      <td>-122.24</td>\n",
       "      <td>37.85</td>\n",
       "      <td>52.0</td>\n",
       "      <td>1467.0</td>\n",
       "      <td>190.0</td>\n",
       "      <td>496.0</td>\n",
       "      <td>177.0</td>\n",
       "      <td>7.2574</td>\n",
       "      <td>352100.0</td>\n",
       "      <td>NEAR BAY</td>\n",
       "    </tr>\n",
       "    <tr>\n",
       "      <th>3</th>\n",
       "      <td>-122.25</td>\n",
       "      <td>37.85</td>\n",
       "      <td>52.0</td>\n",
       "      <td>1274.0</td>\n",
       "      <td>235.0</td>\n",
       "      <td>558.0</td>\n",
       "      <td>219.0</td>\n",
       "      <td>5.6431</td>\n",
       "      <td>341300.0</td>\n",
       "      <td>NEAR BAY</td>\n",
       "    </tr>\n",
       "    <tr>\n",
       "      <th>4</th>\n",
       "      <td>-122.25</td>\n",
       "      <td>37.85</td>\n",
       "      <td>52.0</td>\n",
       "      <td>1627.0</td>\n",
       "      <td>280.0</td>\n",
       "      <td>565.0</td>\n",
       "      <td>259.0</td>\n",
       "      <td>3.8462</td>\n",
       "      <td>342200.0</td>\n",
       "      <td>NEAR BAY</td>\n",
       "    </tr>\n",
       "    <tr>\n",
       "      <th>...</th>\n",
       "      <td>...</td>\n",
       "      <td>...</td>\n",
       "      <td>...</td>\n",
       "      <td>...</td>\n",
       "      <td>...</td>\n",
       "      <td>...</td>\n",
       "      <td>...</td>\n",
       "      <td>...</td>\n",
       "      <td>...</td>\n",
       "      <td>...</td>\n",
       "    </tr>\n",
       "    <tr>\n",
       "      <th>20635</th>\n",
       "      <td>-121.09</td>\n",
       "      <td>39.48</td>\n",
       "      <td>25.0</td>\n",
       "      <td>1665.0</td>\n",
       "      <td>374.0</td>\n",
       "      <td>845.0</td>\n",
       "      <td>330.0</td>\n",
       "      <td>1.5603</td>\n",
       "      <td>78100.0</td>\n",
       "      <td>INLAND</td>\n",
       "    </tr>\n",
       "    <tr>\n",
       "      <th>20636</th>\n",
       "      <td>-121.21</td>\n",
       "      <td>39.49</td>\n",
       "      <td>18.0</td>\n",
       "      <td>697.0</td>\n",
       "      <td>150.0</td>\n",
       "      <td>356.0</td>\n",
       "      <td>114.0</td>\n",
       "      <td>2.5568</td>\n",
       "      <td>77100.0</td>\n",
       "      <td>INLAND</td>\n",
       "    </tr>\n",
       "    <tr>\n",
       "      <th>20637</th>\n",
       "      <td>-121.22</td>\n",
       "      <td>39.43</td>\n",
       "      <td>17.0</td>\n",
       "      <td>2254.0</td>\n",
       "      <td>485.0</td>\n",
       "      <td>1007.0</td>\n",
       "      <td>433.0</td>\n",
       "      <td>1.7000</td>\n",
       "      <td>92300.0</td>\n",
       "      <td>INLAND</td>\n",
       "    </tr>\n",
       "    <tr>\n",
       "      <th>20638</th>\n",
       "      <td>-121.32</td>\n",
       "      <td>39.43</td>\n",
       "      <td>18.0</td>\n",
       "      <td>1860.0</td>\n",
       "      <td>409.0</td>\n",
       "      <td>741.0</td>\n",
       "      <td>349.0</td>\n",
       "      <td>1.8672</td>\n",
       "      <td>84700.0</td>\n",
       "      <td>INLAND</td>\n",
       "    </tr>\n",
       "    <tr>\n",
       "      <th>20639</th>\n",
       "      <td>-121.24</td>\n",
       "      <td>39.37</td>\n",
       "      <td>16.0</td>\n",
       "      <td>2785.0</td>\n",
       "      <td>616.0</td>\n",
       "      <td>1387.0</td>\n",
       "      <td>530.0</td>\n",
       "      <td>2.3886</td>\n",
       "      <td>89400.0</td>\n",
       "      <td>INLAND</td>\n",
       "    </tr>\n",
       "  </tbody>\n",
       "</table>\n",
       "<p>20433 rows × 10 columns</p>\n",
       "</div>"
      ],
      "text/plain": [
       "            0      1     2       3       4       5       6       7         8  \\\n",
       "0     -122.23  37.88  41.0   880.0   129.0   322.0   126.0  8.3252  452600.0   \n",
       "1     -122.22  37.86  21.0  7099.0  1106.0  2401.0  1138.0  8.3014  358500.0   \n",
       "2     -122.24  37.85  52.0  1467.0   190.0   496.0   177.0  7.2574  352100.0   \n",
       "3     -122.25  37.85  52.0  1274.0   235.0   558.0   219.0  5.6431  341300.0   \n",
       "4     -122.25  37.85  52.0  1627.0   280.0   565.0   259.0  3.8462  342200.0   \n",
       "...       ...    ...   ...     ...     ...     ...     ...     ...       ...   \n",
       "20635 -121.09  39.48  25.0  1665.0   374.0   845.0   330.0  1.5603   78100.0   \n",
       "20636 -121.21  39.49  18.0   697.0   150.0   356.0   114.0  2.5568   77100.0   \n",
       "20637 -121.22  39.43  17.0  2254.0   485.0  1007.0   433.0  1.7000   92300.0   \n",
       "20638 -121.32  39.43  18.0  1860.0   409.0   741.0   349.0  1.8672   84700.0   \n",
       "20639 -121.24  39.37  16.0  2785.0   616.0  1387.0   530.0  2.3886   89400.0   \n",
       "\n",
       "              9  \n",
       "0      NEAR BAY  \n",
       "1      NEAR BAY  \n",
       "2      NEAR BAY  \n",
       "3      NEAR BAY  \n",
       "4      NEAR BAY  \n",
       "...         ...  \n",
       "20635    INLAND  \n",
       "20636    INLAND  \n",
       "20637    INLAND  \n",
       "20638    INLAND  \n",
       "20639    INLAND  \n",
       "\n",
       "[20433 rows x 10 columns]"
      ]
     },
     "execution_count": 98,
     "metadata": {},
     "output_type": "execute_result"
    }
   ],
   "source": [
    "df"
   ]
  },
  {
   "cell_type": "code",
   "execution_count": 99,
   "metadata": {},
   "outputs": [
    {
     "name": "stdout",
     "output_type": "stream",
     "text": [
      "<class 'pandas.core.frame.DataFrame'>\n",
      "Int64Index: 20433 entries, 0 to 20639\n",
      "Data columns (total 10 columns):\n",
      " #   Column  Non-Null Count  Dtype  \n",
      "---  ------  --------------  -----  \n",
      " 0   0       20433 non-null  float64\n",
      " 1   1       20433 non-null  float64\n",
      " 2   2       20433 non-null  float64\n",
      " 3   3       20433 non-null  float64\n",
      " 4   4       20433 non-null  float64\n",
      " 5   5       20433 non-null  float64\n",
      " 6   6       20433 non-null  float64\n",
      " 7   7       20433 non-null  float64\n",
      " 8   8       20433 non-null  float64\n",
      " 9   9       20433 non-null  object \n",
      "dtypes: float64(9), object(1)\n",
      "memory usage: 1.7+ MB\n"
     ]
    }
   ],
   "source": [
    "df.info()"
   ]
  },
  {
   "cell_type": "markdown",
   "metadata": {},
   "source": [
    "#### 4."
   ]
  },
  {
   "cell_type": "code",
   "execution_count": 100,
   "metadata": {},
   "outputs": [],
   "source": [
    "y = df[9]\n",
    "X = df.drop([9], axis=1).astype('float32')"
   ]
  },
  {
   "cell_type": "code",
   "execution_count": 101,
   "metadata": {},
   "outputs": [
    {
     "name": "stdout",
     "output_type": "stream",
     "text": [
      "<class 'pandas.core.frame.DataFrame'>\n",
      "Int64Index: 20433 entries, 0 to 20639\n",
      "Data columns (total 9 columns):\n",
      " #   Column  Non-Null Count  Dtype  \n",
      "---  ------  --------------  -----  \n",
      " 0   0       20433 non-null  float32\n",
      " 1   1       20433 non-null  float32\n",
      " 2   2       20433 non-null  float32\n",
      " 3   3       20433 non-null  float32\n",
      " 4   4       20433 non-null  float32\n",
      " 5   5       20433 non-null  float32\n",
      " 6   6       20433 non-null  float32\n",
      " 7   7       20433 non-null  float32\n",
      " 8   8       20433 non-null  float32\n",
      "dtypes: float32(9)\n",
      "memory usage: 878.0 KB\n"
     ]
    }
   ],
   "source": [
    "X.info()"
   ]
  },
  {
   "cell_type": "code",
   "execution_count": 102,
   "metadata": {},
   "outputs": [],
   "source": [
    "scale = MinMaxScaler()\n",
    "X = scale.fit_transform(X)"
   ]
  },
  {
   "cell_type": "markdown",
   "metadata": {},
   "source": [
    "#### 2."
   ]
  },
  {
   "cell_type": "code",
   "execution_count": 103,
   "metadata": {},
   "outputs": [],
   "source": [
    "la = LabelEncoder()\n",
    "y = la.fit_transform(y.values)"
   ]
  },
  {
   "cell_type": "code",
   "execution_count": 104,
   "metadata": {},
   "outputs": [
    {
     "data": {
      "text/plain": [
       "array([0, 1, 2, 3, 4])"
      ]
     },
     "execution_count": 104,
     "metadata": {},
     "output_type": "execute_result"
    }
   ],
   "source": [
    "np.unique(y)"
   ]
  },
  {
   "cell_type": "code",
   "execution_count": 105,
   "metadata": {},
   "outputs": [],
   "source": [
    "y_new_arr = np.zeros((len(y), 5))\n",
    "for i, value in enumerate(y):\n",
    "    y_new_arr[i][value]=1.0\n",
    "y=y_new_arr"
   ]
  },
  {
   "cell_type": "markdown",
   "metadata": {},
   "source": [
    "#### 3."
   ]
  },
  {
   "cell_type": "code",
   "execution_count": 106,
   "metadata": {},
   "outputs": [],
   "source": [
    "X_train, X_val_tmp, y_train, y_val_tmp = train_test_split(X, y, test_size = 0.2, random_state = 20)\n",
    "X_val, X_test, y_val, y_test = train_test_split(X_val_tmp, y_val_tmp, test_size = 0.5, random_state = 20)"
   ]
  },
  {
   "cell_type": "markdown",
   "metadata": {},
   "source": [
    "#### 5., 6."
   ]
  },
  {
   "cell_type": "code",
   "execution_count": 119,
   "metadata": {},
   "outputs": [],
   "source": [
    "from keras.layers import LeakyReLU\n",
    "from tensorflow import keras\n",
    "from tensorflow.keras.models import Sequential\n",
    "from tensorflow.keras.layers import Dense, Activation, BatchNormalization, Dropout\n",
    "\n",
    "def model_train(num_inputs=9, lr=0.0001):\n",
    "    model = Sequential()\n",
    "    model.add(Dense(1024, input_dim=num_inputs))\n",
    "    model.add(Activation('relu'))\n",
    "    model.add(Dense(512))\n",
    "    model.add(Activation('relu'))\n",
    "    model.add(Dense(256))\n",
    "    model.add(Activation('relu'))\n",
    "    model.add(Dense(128))\n",
    "    model.add(Activation('relu'))\n",
    "    model.add(Dropout(0.3))\n",
    "    model.add(Dense(64))\n",
    "    model.add(Activation('relu'))\n",
    "    model.add(Dropout(0.2))\n",
    "    model.add(Dense(5,activation='softmax'))\n",
    "    \n",
    "    opt = keras.optimizers.RMSprop(learning_rate=lr)\n",
    "    model.compile(loss=\"categorical_crossentropy\", optimizer=opt, metrics=\"acc\")\n",
    "    return model\n"
   ]
  },
  {
   "cell_type": "markdown",
   "metadata": {},
   "source": [
    "#### 7."
   ]
  },
  {
   "cell_type": "code",
   "execution_count": 120,
   "metadata": {},
   "outputs": [
    {
     "name": "stdout",
     "output_type": "stream",
     "text": [
      "Epoch 1/100\n",
      "32/32 [==============================] - 2s 40ms/step - loss: 1.4308 - acc: 0.4868 - val_loss: 1.2197 - val_acc: 0.5678\n",
      "Epoch 2/100\n",
      "32/32 [==============================] - 1s 38ms/step - loss: 1.1248 - acc: 0.6071 - val_loss: 0.9612 - val_acc: 0.6422\n",
      "Epoch 3/100\n",
      "32/32 [==============================] - 1s 45ms/step - loss: 0.9446 - acc: 0.6667 - val_loss: 0.8254 - val_acc: 0.7093\n",
      "Epoch 4/100\n",
      "32/32 [==============================] - 2s 53ms/step - loss: 0.8521 - acc: 0.6931 - val_loss: 0.7656 - val_acc: 0.7176\n",
      "Epoch 5/100\n",
      "32/32 [==============================] - 2s 48ms/step - loss: 0.8063 - acc: 0.7036 - val_loss: 0.7328 - val_acc: 0.7259\n",
      "Epoch 6/100\n",
      "32/32 [==============================] - 2s 57ms/step - loss: 0.7748 - acc: 0.7180 - val_loss: 0.7086 - val_acc: 0.7347\n",
      "Epoch 7/100\n",
      "32/32 [==============================] - 2s 56ms/step - loss: 0.7524 - acc: 0.7186 - val_loss: 0.6922 - val_acc: 0.7367\n",
      "Epoch 8/100\n",
      "32/32 [==============================] - 2s 53ms/step - loss: 0.7260 - acc: 0.7316 - val_loss: 0.6720 - val_acc: 0.7450\n",
      "Epoch 9/100\n",
      "32/32 [==============================] - 1s 43ms/step - loss: 0.7082 - acc: 0.7353 - val_loss: 0.6596 - val_acc: 0.7430\n",
      "Epoch 10/100\n",
      "32/32 [==============================] - 1s 46ms/step - loss: 0.6880 - acc: 0.7380 - val_loss: 0.6426 - val_acc: 0.7513\n",
      "Epoch 11/100\n",
      "32/32 [==============================] - 1s 42ms/step - loss: 0.6694 - acc: 0.7436 - val_loss: 0.6333 - val_acc: 0.7523\n",
      "Epoch 12/100\n",
      "32/32 [==============================] - 1s 37ms/step - loss: 0.6546 - acc: 0.7459 - val_loss: 0.6127 - val_acc: 0.7543\n",
      "Epoch 13/100\n",
      "32/32 [==============================] - 1s 36ms/step - loss: 0.6374 - acc: 0.7544 - val_loss: 0.5925 - val_acc: 0.7651\n",
      "Epoch 14/100\n",
      "32/32 [==============================] - 1s 35ms/step - loss: 0.6193 - acc: 0.7615 - val_loss: 0.5924 - val_acc: 0.7631\n",
      "Epoch 15/100\n",
      "32/32 [==============================] - 1s 36ms/step - loss: 0.6045 - acc: 0.7710 - val_loss: 0.5659 - val_acc: 0.8057\n",
      "Epoch 16/100\n",
      "32/32 [==============================] - 1s 33ms/step - loss: 0.5899 - acc: 0.7769 - val_loss: 0.5632 - val_acc: 0.7817\n",
      "Epoch 17/100\n",
      "32/32 [==============================] - 1s 33ms/step - loss: 0.5716 - acc: 0.7826 - val_loss: 0.5540 - val_acc: 0.8052\n",
      "Epoch 18/100\n",
      "32/32 [==============================] - 1s 35ms/step - loss: 0.5637 - acc: 0.7914 - val_loss: 0.5862 - val_acc: 0.7724\n",
      "Epoch 19/100\n",
      "32/32 [==============================] - 1s 38ms/step - loss: 0.5479 - acc: 0.7951 - val_loss: 0.5204 - val_acc: 0.8135\n",
      "Epoch 20/100\n",
      "32/32 [==============================] - 1s 46ms/step - loss: 0.5371 - acc: 0.8029 - val_loss: 0.5017 - val_acc: 0.8218\n",
      "Epoch 21/100\n",
      "32/32 [==============================] - 1s 39ms/step - loss: 0.5286 - acc: 0.8068 - val_loss: 0.4980 - val_acc: 0.8262\n",
      "Epoch 22/100\n",
      "32/32 [==============================] - 1s 38ms/step - loss: 0.5128 - acc: 0.8102 - val_loss: 0.5003 - val_acc: 0.8160\n",
      "Epoch 23/100\n",
      "32/32 [==============================] - 1s 37ms/step - loss: 0.5078 - acc: 0.8089 - val_loss: 0.4809 - val_acc: 0.8243\n",
      "Epoch 24/100\n",
      "32/32 [==============================] - 1s 37ms/step - loss: 0.4964 - acc: 0.8177 - val_loss: 0.4669 - val_acc: 0.8292\n",
      "Epoch 25/100\n",
      "32/32 [==============================] - 1s 35ms/step - loss: 0.4877 - acc: 0.8200 - val_loss: 0.4576 - val_acc: 0.8302\n",
      "Epoch 26/100\n",
      "32/32 [==============================] - 1s 39ms/step - loss: 0.4764 - acc: 0.8233 - val_loss: 0.4594 - val_acc: 0.8297\n",
      "Epoch 27/100\n",
      "32/32 [==============================] - 1s 35ms/step - loss: 0.4753 - acc: 0.8237 - val_loss: 0.4425 - val_acc: 0.8370\n",
      "Epoch 28/100\n",
      "32/32 [==============================] - 1s 33ms/step - loss: 0.4626 - acc: 0.8268 - val_loss: 0.4382 - val_acc: 0.8395\n",
      "Epoch 29/100\n",
      "32/32 [==============================] - 1s 33ms/step - loss: 0.4477 - acc: 0.8353 - val_loss: 0.4180 - val_acc: 0.8448\n",
      "Epoch 30/100\n",
      "32/32 [==============================] - 1s 33ms/step - loss: 0.4466 - acc: 0.8327 - val_loss: 0.4459 - val_acc: 0.8385\n",
      "Epoch 31/100\n",
      "32/32 [==============================] - 1s 34ms/step - loss: 0.4420 - acc: 0.8349 - val_loss: 0.4135 - val_acc: 0.8468\n",
      "Epoch 32/100\n",
      "32/32 [==============================] - 1s 35ms/step - loss: 0.4255 - acc: 0.8402 - val_loss: 0.4228 - val_acc: 0.8424\n",
      "Epoch 33/100\n",
      "32/32 [==============================] - 1s 41ms/step - loss: 0.4256 - acc: 0.8405 - val_loss: 0.3893 - val_acc: 0.8497\n",
      "Epoch 34/100\n",
      "32/32 [==============================] - 1s 43ms/step - loss: 0.4148 - acc: 0.8431 - val_loss: 0.3946 - val_acc: 0.8517\n",
      "Epoch 35/100\n",
      "32/32 [==============================] - 1s 40ms/step - loss: 0.4138 - acc: 0.8459 - val_loss: 0.4014 - val_acc: 0.8483\n",
      "Epoch 36/100\n",
      "32/32 [==============================] - 1s 38ms/step - loss: 0.4133 - acc: 0.8439 - val_loss: 0.4122 - val_acc: 0.8360\n",
      "Epoch 37/100\n",
      "32/32 [==============================] - 1s 42ms/step - loss: 0.4053 - acc: 0.8466 - val_loss: 0.3782 - val_acc: 0.8502\n",
      "Epoch 38/100\n",
      "32/32 [==============================] - 2s 50ms/step - loss: 0.3986 - acc: 0.8468 - val_loss: 0.4433 - val_acc: 0.8331\n",
      "Epoch 39/100\n",
      "32/32 [==============================] - 1s 37ms/step - loss: 0.3922 - acc: 0.8513 - val_loss: 0.3800 - val_acc: 0.8522\n",
      "Epoch 40/100\n",
      "32/32 [==============================] - ETA: 0s - loss: 0.3876 - acc: 0.851 - 1s 44ms/step - loss: 0.3876 - acc: 0.8513 - val_loss: 0.4195 - val_acc: 0.8302\n",
      "Epoch 41/100\n",
      "32/32 [==============================] - 1s 40ms/step - loss: 0.3795 - acc: 0.8548 - val_loss: 0.3388 - val_acc: 0.8659\n",
      "Epoch 42/100\n",
      "32/32 [==============================] - 1s 40ms/step - loss: 0.3760 - acc: 0.8572 - val_loss: 0.3651 - val_acc: 0.8556\n",
      "Epoch 43/100\n",
      "32/32 [==============================] - 1s 38ms/step - loss: 0.3790 - acc: 0.8573 - val_loss: 0.3815 - val_acc: 0.8492\n",
      "Epoch 44/100\n",
      "32/32 [==============================] - 1s 35ms/step - loss: 0.3732 - acc: 0.8556 - val_loss: 0.3506 - val_acc: 0.8541\n",
      "Epoch 45/100\n",
      "32/32 [==============================] - 1s 37ms/step - loss: 0.3737 - acc: 0.8565 - val_loss: 0.3333 - val_acc: 0.8649\n",
      "Epoch 46/100\n",
      "32/32 [==============================] - 1s 41ms/step - loss: 0.3682 - acc: 0.8581 - val_loss: 0.3304 - val_acc: 0.8659\n",
      "Epoch 47/100\n",
      "32/32 [==============================] - 1s 41ms/step - loss: 0.3625 - acc: 0.8564 - val_loss: 0.3370 - val_acc: 0.8698\n",
      "Epoch 48/100\n",
      "32/32 [==============================] - 1s 36ms/step - loss: 0.3631 - acc: 0.8575 - val_loss: 0.3330 - val_acc: 0.8649\n",
      "Epoch 49/100\n",
      "32/32 [==============================] - 1s 35ms/step - loss: 0.3582 - acc: 0.8607 - val_loss: 0.3260 - val_acc: 0.8698\n",
      "Epoch 50/100\n",
      "32/32 [==============================] - 1s 38ms/step - loss: 0.3543 - acc: 0.8597 - val_loss: 0.4780 - val_acc: 0.8155\n",
      "Epoch 51/100\n",
      "32/32 [==============================] - 1s 39ms/step - loss: 0.3498 - acc: 0.8631 - val_loss: 0.4151 - val_acc: 0.8399\n",
      "Epoch 52/100\n",
      "32/32 [==============================] - 1s 39ms/step - loss: 0.3479 - acc: 0.8656 - val_loss: 0.3462 - val_acc: 0.8605\n",
      "Epoch 53/100\n",
      "32/32 [==============================] - 1s 42ms/step - loss: 0.3582 - acc: 0.8595 - val_loss: 0.3186 - val_acc: 0.8698\n",
      "Epoch 54/100\n",
      "32/32 [==============================] - 2s 48ms/step - loss: 0.3506 - acc: 0.8636 - val_loss: 0.3182 - val_acc: 0.8708 loss: 0.3407 - acc:\n",
      "Epoch 55/100\n",
      "32/32 [==============================] - 1s 38ms/step - loss: 0.3391 - acc: 0.8682 - val_loss: 0.3244 - val_acc: 0.8742\n",
      "Epoch 56/100\n",
      "32/32 [==============================] - 1s 37ms/step - loss: 0.3457 - acc: 0.8651 - val_loss: 0.3388 - val_acc: 0.8688\n",
      "Epoch 57/100\n",
      "32/32 [==============================] - 1s 35ms/step - loss: 0.3430 - acc: 0.8653 - val_loss: 0.3743 - val_acc: 0.8546\n",
      "Epoch 58/100\n",
      "32/32 [==============================] - 1s 36ms/step - loss: 0.3344 - acc: 0.8684 - val_loss: 0.3412 - val_acc: 0.8634\n",
      "Epoch 59/100\n",
      "32/32 [==============================] - 1s 37ms/step - loss: 0.3357 - acc: 0.8674 - val_loss: 0.3166 - val_acc: 0.8703\n",
      "Epoch 60/100\n",
      "32/32 [==============================] - 1s 45ms/step - loss: 0.3282 - acc: 0.8727 - val_loss: 0.3001 - val_acc: 0.8722\n",
      "Epoch 61/100\n",
      "32/32 [==============================] - 1s 35ms/step - loss: 0.3370 - acc: 0.8667 - val_loss: 0.3395 - val_acc: 0.8634\n",
      "Epoch 62/100\n"
     ]
    },
    {
     "name": "stdout",
     "output_type": "stream",
     "text": [
      "32/32 [==============================] - ETA: 0s - loss: 0.3228 - acc: 0.872 - 1s 37ms/step - loss: 0.3228 - acc: 0.8723 - val_loss: 0.3367 - val_acc: 0.8581\n",
      "Epoch 63/100\n",
      "32/32 [==============================] - 1s 42ms/step - loss: 0.3318 - acc: 0.8678 - val_loss: 0.2912 - val_acc: 0.8801\n",
      "Epoch 64/100\n",
      "32/32 [==============================] - 1s 43ms/step - loss: 0.3172 - acc: 0.8746 - val_loss: 0.3268 - val_acc: 0.8722\n",
      "Epoch 65/100\n",
      "32/32 [==============================] - 1s 42ms/step - loss: 0.3270 - acc: 0.8698 - val_loss: 0.2922 - val_acc: 0.8742\n",
      "Epoch 66/100\n",
      "32/32 [==============================] - 1s 38ms/step - loss: 0.3207 - acc: 0.8715 - val_loss: 0.3023 - val_acc: 0.8722\n",
      "Epoch 67/100\n",
      "32/32 [==============================] - 1s 37ms/step - loss: 0.3255 - acc: 0.8702 - val_loss: 0.3491 - val_acc: 0.8556\n",
      "Epoch 68/100\n",
      "32/32 [==============================] - 1s 42ms/step - loss: 0.3191 - acc: 0.8693 - val_loss: 0.2774 - val_acc: 0.8801\n",
      "Epoch 69/100\n",
      "32/32 [==============================] - 1s 40ms/step - loss: 0.3154 - acc: 0.8726 - val_loss: 0.2928 - val_acc: 0.8718\n",
      "Epoch 70/100\n",
      "32/32 [==============================] - 1s 36ms/step - loss: 0.3196 - acc: 0.8734 - val_loss: 0.3437 - val_acc: 0.8600\n",
      "Epoch 71/100\n",
      "32/32 [==============================] - 1s 37ms/step - loss: 0.3224 - acc: 0.8735 - val_loss: 0.3518 - val_acc: 0.8610\n",
      "Epoch 72/100\n",
      "32/32 [==============================] - 1s 43ms/step - loss: 0.3156 - acc: 0.8743 - val_loss: 0.2991 - val_acc: 0.8757\n",
      "Epoch 73/100\n",
      "32/32 [==============================] - 1s 41ms/step - loss: 0.3064 - acc: 0.8774 - val_loss: 0.2875 - val_acc: 0.8752\n",
      "Epoch 74/100\n",
      "32/32 [==============================] - 1s 42ms/step - loss: 0.3188 - acc: 0.8729 - val_loss: 0.2935 - val_acc: 0.8781\n",
      "Epoch 75/100\n",
      "32/32 [==============================] - 1s 37ms/step - loss: 0.3024 - acc: 0.8813 - val_loss: 0.3492 - val_acc: 0.8595\n",
      "Epoch 76/100\n",
      "32/32 [==============================] - 1s 35ms/step - loss: 0.3055 - acc: 0.8783 - val_loss: 0.2830 - val_acc: 0.8776\n",
      "Epoch 77/100\n",
      "32/32 [==============================] - 1s 34ms/step - loss: 0.3166 - acc: 0.8738 - val_loss: 0.2655 - val_acc: 0.8835\n",
      "Epoch 78/100\n",
      "32/32 [==============================] - 1s 34ms/step - loss: 0.3082 - acc: 0.8776 - val_loss: 0.3470 - val_acc: 0.8659\n",
      "Epoch 79/100\n",
      "32/32 [==============================] - 1s 41ms/step - loss: 0.3022 - acc: 0.8800 - val_loss: 0.2941 - val_acc: 0.8786\n",
      "Epoch 80/100\n",
      "32/32 [==============================] - 2s 49ms/step - loss: 0.3016 - acc: 0.8811 - val_loss: 0.2595 - val_acc: 0.8874\n",
      "Epoch 81/100\n",
      "32/32 [==============================] - 1s 41ms/step - loss: 0.3004 - acc: 0.8794 - val_loss: 0.4289 - val_acc: 0.8419\n",
      "Epoch 82/100\n",
      "32/32 [==============================] - 1s 40ms/step - loss: 0.3096 - acc: 0.8759 - val_loss: 0.5105 - val_acc: 0.8003\n",
      "Epoch 83/100\n",
      "32/32 [==============================] - 1s 36ms/step - loss: 0.3024 - acc: 0.8756 - val_loss: 0.2760 - val_acc: 0.8796\n",
      "Epoch 84/100\n",
      "32/32 [==============================] - 1s 45ms/step - loss: 0.3041 - acc: 0.8781 - val_loss: 0.2700 - val_acc: 0.8840\n",
      "Epoch 85/100\n",
      "32/32 [==============================] - 1s 46ms/step - loss: 0.2982 - acc: 0.8788 - val_loss: 0.2559 - val_acc: 0.8899\n",
      "Epoch 86/100\n",
      "32/32 [==============================] - 2s 54ms/step - loss: 0.2888 - acc: 0.8855 - val_loss: 0.3209 - val_acc: 0.8752\n",
      "Epoch 87/100\n",
      "32/32 [==============================] - 1s 40ms/step - loss: 0.2951 - acc: 0.8821 - val_loss: 0.2581 - val_acc: 0.8884\n",
      "Epoch 88/100\n",
      "32/32 [==============================] - 1s 41ms/step - loss: 0.2976 - acc: 0.8798 - val_loss: 0.2547 - val_acc: 0.8889\n",
      "Epoch 89/100\n",
      "32/32 [==============================] - 2s 47ms/step - loss: 0.2970 - acc: 0.8815 - val_loss: 0.4066 - val_acc: 0.8385\n",
      "Epoch 90/100\n",
      "32/32 [==============================] - 1s 42ms/step - loss: 0.2949 - acc: 0.8814 - val_loss: 0.3355 - val_acc: 0.8664\n",
      "Epoch 91/100\n",
      "32/32 [==============================] - 1s 39ms/step - loss: 0.2838 - acc: 0.8838 - val_loss: 0.3392 - val_acc: 0.8678\n",
      "Epoch 92/100\n",
      "32/32 [==============================] - 1s 38ms/step - loss: 0.2942 - acc: 0.8835 - val_loss: 0.3126 - val_acc: 0.8698\n",
      "Epoch 93/100\n",
      "32/32 [==============================] - 2s 48ms/step - loss: 0.2904 - acc: 0.8836 - val_loss: 0.2721 - val_acc: 0.8776\n",
      "Epoch 94/100\n",
      "32/32 [==============================] - 2s 47ms/step - loss: 0.2939 - acc: 0.8788 - val_loss: 0.2549 - val_acc: 0.8860\n",
      "Epoch 95/100\n",
      "32/32 [==============================] - 2s 56ms/step - loss: 0.2828 - acc: 0.8855 - val_loss: 0.2623 - val_acc: 0.8850\n",
      "Epoch 96/100\n",
      "32/32 [==============================] - 2s 55ms/step - loss: 0.2925 - acc: 0.8817 - val_loss: 0.2678 - val_acc: 0.8835\n",
      "Epoch 97/100\n",
      "32/32 [==============================] - 2s 55ms/step - loss: 0.2828 - acc: 0.8860 - val_loss: 0.4455 - val_acc: 0.8365\n",
      "Epoch 98/100\n",
      "32/32 [==============================] - 2s 60ms/step - loss: 0.2844 - acc: 0.8839 - val_loss: 0.2876 - val_acc: 0.8811\n",
      "Epoch 99/100\n",
      "32/32 [==============================] - 1s 41ms/step - loss: 0.2890 - acc: 0.8846 - val_loss: 0.2910 - val_acc: 0.8742\n",
      "Epoch 100/100\n",
      "32/32 [==============================] - 1s 38ms/step - loss: 0.2791 - acc: 0.8862 - val_loss: 0.2554 - val_acc: 0.8889\n"
     ]
    }
   ],
   "source": [
    "model = model_train(9, 0.0001)\n",
    "history = model.fit(X_train, y_train, epochs=100,validation_data=(X_val,y_val), batch_size=512)"
   ]
  },
  {
   "cell_type": "markdown",
   "metadata": {},
   "source": [
    "#### 8."
   ]
  },
  {
   "cell_type": "code",
   "execution_count": 121,
   "metadata": {},
   "outputs": [
    {
     "data": {
      "image/png": "[encoded data removed]",
      "text/plain": [
       "<Figure size 432x288 with 1 Axes>"
      ]
     },
     "metadata": {
      "needs_background": "light"
     },
     "output_type": "display_data"
    }
   ],
   "source": [
    "plt.plot(history.history['loss'])\n",
    "plt.plot(history.history['val_loss'])\n",
    "plt.title('model loss')\n",
    "plt.ylabel('loss')\n",
    "plt.xlabel('epoch')\n",
    "plt.legend(['train', 'val'], loc='upper left')\n",
    "plt.show()"
   ]
  },
  {
   "cell_type": "code",
   "execution_count": 122,
   "metadata": {},
   "outputs": [
    {
     "data": {
      "image/png": "[encoded data removed]",
      "text/plain": [
       "<Figure size 432x288 with 1 Axes>"
      ]
     },
     "metadata": {
      "needs_background": "light"
     },
     "output_type": "display_data"
    }
   ],
   "source": [
    "plt.plot(history.history['acc'])\n",
    "plt.plot(history.history['val_acc'])\n",
    "plt.title('model accuracy')\n",
    "plt.ylabel('accuracy')\n",
    "plt.xlabel('epoch')\n",
    "plt.legend(['train', 'val'], loc='upper left')\n",
    "plt.show()"
   ]
  },
  {
   "cell_type": "code",
   "execution_count": null,
   "metadata": {},
   "outputs": [],
   "source": []
  }
 ],
 "metadata": {
  "kernelspec": {
   "display_name": "Python 3",
   "language": "python",
   "name": "python3"
  },
  "language_info": {
   "codemirror_mode": {
    "name": "ipython",
    "version": 3
   },
   "file_extension": ".py",
   "mimetype": "text/x-python",
   "name": "python",
   "nbconvert_exporter": "python",
   "pygments_lexer": "ipython3",
   "version": "3.6.5"
  }
 },
 "nbformat": 4,
 "nbformat_minor": 1
}
